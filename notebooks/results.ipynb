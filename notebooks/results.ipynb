{
 "cells": [
  {
   "cell_type": "markdown",
   "metadata": {},
   "source": [
    "# 1.Cora"
   ]
  },
  {
   "cell_type": "code",
   "execution_count": null,
   "metadata": {},
   "outputs": [],
   "source": [
    "CUDA_VISIBLE_DEVICES=0 python SGCN.py @parameter_cora"
   ]
  },
  {
   "cell_type": "raw",
   "metadata": {},
   "source": [
    "# instance x #feature ~ #class = 2708 x 1433 ~ 7\n",
    "  0/200 trn-loss: 3.4423 trn-acc: 0.3857 val-acc: 0.3705\n",
    "  1/200 trn-loss: 3.2874 trn-acc: 0.6357 val-acc: 0.3737\n",
    "  2/200 trn-loss: 2.5731 trn-acc: 0.8857 val-acc: 0.6550\n",
    "  3/200 trn-loss: 2.0929 trn-acc: 0.8357 val-acc: 0.6486\n",
    "  4/200 trn-loss: 1.6479 trn-acc: 0.9357 val-acc: 0.7411\n",
    "  5/200 trn-loss: 1.2582 trn-acc: 0.9643 val-acc: 0.8125\n",
    "  6/200 trn-loss: 0.8863 trn-acc: 0.9714 val-acc: 0.8323\n",
    "  7/200 trn-loss: 0.6492 trn-acc: 0.9857 val-acc: 0.8259\n",
    "  8/200 trn-loss: 0.4623 trn-acc: 0.9857 val-acc: 0.8131\n",
    "  9/200 trn-loss: 0.3669 trn-acc: 0.9857 val-acc: 0.8055\n",
    " 10/200 trn-loss: 0.2643 trn-acc: 0.9929 val-acc: 0.8074\n",
    " 11/200 trn-loss: 0.2175 trn-acc: 0.9929 val-acc: 0.8157\n",
    " 12/200 trn-loss: 0.1744 trn-acc: 1.0000 val-acc: 0.8240\n",
    " 13/200 trn-loss: 0.1464 trn-acc: 1.0000 val-acc: 0.8221\n",
    " 14/200 trn-loss: 0.1066 trn-acc: 1.0000 val-acc: 0.8170\n",
    " 15/200 trn-loss: 0.0820 trn-acc: 1.0000 val-acc: 0.8087\n",
    "tst-acc: 0.8560\n",
    "val=83.23% tst=85.60%"
   ]
  },
  {
   "cell_type": "markdown",
   "metadata": {},
   "source": [
    "# 2.Pubmed"
   ]
  },
  {
   "cell_type": "code",
   "execution_count": null,
   "metadata": {
    "collapsed": true
   },
   "outputs": [],
   "source": [
    "CUDA_VISIBLE_DEVICES=1 python SGCN.py @parameter_pubmed"
   ]
  },
  {
   "cell_type": "raw",
   "metadata": {},
   "source": [
    "#instance x #feature ~ #class = 19717 x 500 ~ 3\n",
    "  0/200 trn-loss: 1.3568 trn-acc: 0.3333 val-acc: 0.3916\n",
    "  1/200 trn-loss: 1.3319 trn-acc: 0.3333 val-acc: 0.2103\n",
    "  2/200 trn-loss: 1.2678 trn-acc: 0.7333 val-acc: 0.5924\n",
    "  3/200 trn-loss: 1.1819 trn-acc: 0.6333 val-acc: 0.5355\n",
    "  4/200 trn-loss: 1.1847 trn-acc: 0.8667 val-acc: 0.7286\n",
    "  5/200 trn-loss: 1.1511 trn-acc: 0.7500 val-acc: 0.6835\n",
    "  6/200 trn-loss: 1.0325 trn-acc: 0.8167 val-acc: 0.7023\n",
    "  7/200 trn-loss: 0.9960 trn-acc: 0.8500 val-acc: 0.7363\n",
    "  8/200 trn-loss: 0.9165 trn-acc: 0.9167 val-acc: 0.7579\n",
    "  9/200 trn-loss: 0.8275 trn-acc: 0.9167 val-acc: 0.7693\n",
    " 10/200 trn-loss: 0.8161 trn-acc: 0.9000 val-acc: 0.7351\n",
    " 11/200 trn-loss: 0.7002 trn-acc: 0.9167 val-acc: 0.7510\n",
    " 12/200 trn-loss: 0.7451 trn-acc: 0.9167 val-acc: 0.7534\n",
    " 13/200 trn-loss: 0.7071 trn-acc: 0.9333 val-acc: 0.7526\n",
    " 14/200 trn-loss: 0.7186 trn-acc: 0.9500 val-acc: 0.7885\n",
    " 15/200 trn-loss: 0.6735 trn-acc: 0.9500 val-acc: 0.7485\n",
    " 16/200 trn-loss: 0.7832 trn-acc: 0.9833 val-acc: 0.7966\n",
    " 17/200 trn-loss: 0.7513 trn-acc: 0.9667 val-acc: 0.7775\n",
    " 18/200 trn-loss: 0.7193 trn-acc: 0.9667 val-acc: 0.7544\n",
    " 19/200 trn-loss: 0.6564 trn-acc: 0.9500 val-acc: 0.7724\n",
    " 20/200 trn-loss: 0.6543 trn-acc: 0.9667 val-acc: 0.7619\n",
    " 21/200 trn-loss: 0.6045 trn-acc: 0.9500 val-acc: 0.7089\n",
    " 22/200 trn-loss: 0.6569 trn-acc: 0.9333 val-acc: 0.7017\n",
    " 23/200 trn-loss: 0.6946 trn-acc: 0.9333 val-acc: 0.7364\n",
    " 24/200 trn-loss: 0.5780 trn-acc: 0.9500 val-acc: 0.7511\n",
    " 25/200 trn-loss: 0.5463 trn-acc: 0.9500 val-acc: 0.7577\n",
    "tst-acc: 0.8220\n",
    "val=79.66% tst=82.20%"
   ]
  },
  {
   "cell_type": "markdown",
   "metadata": {},
   "source": [
    "# 3.Citeseer"
   ]
  },
  {
   "cell_type": "code",
   "execution_count": null,
   "metadata": {
    "collapsed": true
   },
   "outputs": [],
   "source": [
    "CUDA_VISIBLE_DEVICES=2 python SGCN-meta.py @parameter_citeseer"
   ]
  },
  {
   "cell_type": "raw",
   "metadata": {},
   "source": [
    "#instance x #feature ~ #class = 3327 x 3703 ~ 6\n",
    "  0/200 trn-loss: 1.8184 trn-acc: 0.2000 val-acc: 0.2199\n",
    "  1/200 trn-loss: 1.6896 trn-acc: 0.6167 val-acc: 0.4389\n",
    "  2/200 trn-loss: 1.5130 trn-acc: 0.8750 val-acc: 0.6683\n",
    "  3/200 trn-loss: 1.3562 trn-acc: 0.8833 val-acc: 0.7094\n",
    "  4/200 trn-loss: 1.2171 trn-acc: 0.9167 val-acc: 0.7030\n",
    "  5/200 trn-loss: 1.0510 trn-acc: 0.9333 val-acc: 0.6948\n",
    "  6/200 trn-loss: 0.9886 trn-acc: 0.9417 val-acc: 0.6893\n",
    "  7/200 trn-loss: 0.9121 trn-acc: 0.9500 val-acc: 0.6802\n",
    "  8/200 trn-loss: 0.8005 trn-acc: 0.9500 val-acc: 0.6775\n",
    "  9/200 trn-loss: 0.7208 trn-acc: 0.9500 val-acc: 0.6743\n",
    " 10/200 trn-loss: 0.6470 trn-acc: 0.9500 val-acc: 0.6683\n",
    " 11/200 trn-loss: 0.5819 trn-acc: 0.9583 val-acc: 0.6756\n",
    " 12/200 trn-loss: 0.5762 trn-acc: 0.9583 val-acc: 0.6870\n",
    "tst-acc: 0.7440\n",
    "val=70.94% tst=74.40%"
   ]
  }
 ],
 "metadata": {
  "kernelspec": {
   "display_name": "Python [conda env:root] *",
   "language": "python",
   "name": "conda-root-py"
  },
  "language_info": {
   "codemirror_mode": {
    "name": "ipython",
    "version": 3
   },
   "file_extension": ".py",
   "mimetype": "text/x-python",
   "name": "python",
   "nbconvert_exporter": "python",
   "pygments_lexer": "ipython3",
   "version": "3.6.1"
  }
 },
 "nbformat": 4,
 "nbformat_minor": 2
}
